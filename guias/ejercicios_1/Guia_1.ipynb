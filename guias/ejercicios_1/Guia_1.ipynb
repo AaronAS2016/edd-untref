{
 "cells": [
  {
   "cell_type": "markdown",
   "metadata": {
    "colab_type": "text",
    "id": "TZFGBqhlrowG"
   },
   "source": [
    "# <center>Estructura de Datos</center>\n",
    "## <center>Universidad Nacional de Tres de Febrero</center>\n",
    "## <center>Guía de ejercicios 1</center>"
   ]
  },
  {
   "cell_type": "markdown",
   "metadata": {
    "colab_type": "text",
    "id": "btHRMvr5rowI"
   },
   "source": [
    "## Tipos básicos\n",
    "Investigar los métodos y operaciones que soportan los tipos básicos de python y la precedencia de los operadores:\n",
    "> Ver https://docs.python.org/3/library/stdtypes.html"
   ]
  },
  {
   "cell_type": "markdown",
   "metadata": {
    "colab_type": "text",
    "id": "iwePMNHIrowK"
   },
   "source": [
    "## Realizar los siguientes cálculos en python\n",
    "\n",
    "a) 2<sup>1024"
   ]
  },
  {
   "cell_type": "code",
   "execution_count": 1,
   "metadata": {
    "colab": {},
    "colab_type": "code",
    "id": "7SjQHa1mrowN"
   },
   "outputs": [
    {
     "data": {
      "text/plain": [
       "175555970201398037864189960037990696642380564349834626243584063630598316216309534309285622385163609395625111210811907575838661883607828732903171318983861449587663958422720200465138886329341888788528401320395513446131006525725061407689368272012526598792334483090416306874948482361796597953940777665648656384"
      ]
     },
     "execution_count": 1,
     "metadata": {},
     "output_type": "execute_result"
    }
   ],
   "source": [
    "2 ** 1014"
   ]
  },
  {
   "cell_type": "markdown",
   "metadata": {
    "colab_type": "text",
    "id": "5eQHuP11rowX"
   },
   "source": [
    "b) 8/2*(2+2)"
   ]
  },
  {
   "cell_type": "code",
   "execution_count": 3,
   "metadata": {
    "colab": {},
    "colab_type": "code",
    "id": "8dR0fwNWrowY",
    "scrolled": true
   },
   "outputs": [
    {
     "data": {
      "text/plain": [
       "16.0"
      ]
     },
     "execution_count": 3,
     "metadata": {},
     "output_type": "execute_result"
    }
   ],
   "source": [
    "8/2 * (2+2)"
   ]
  },
  {
   "cell_type": "markdown",
   "metadata": {
    "colab_type": "text",
    "id": "n0w0RURQrowe"
   },
   "source": [
    "¿Porqué el resultado es **16** y no **1**?"
   ]
  },
  {
   "cell_type": "markdown",
   "metadata": {
    "colab_type": "text",
    "id": "mbyHQZeKrowf"
   },
   "source": [
    "c) Representar 0,53125 como fracción"
   ]
  },
  {
   "cell_type": "code",
   "execution_count": null,
   "metadata": {
    "colab": {},
    "colab_type": "code",
    "id": "zCEdFfpurowg"
   },
   "outputs": [],
   "source": []
  },
  {
   "cell_type": "markdown",
   "metadata": {
    "colab_type": "text",
    "id": "SD6gko-Erowm"
   },
   "source": [
    "d) Calcular el cuadrado del módulo de (3+2j)"
   ]
  },
  {
   "cell_type": "code",
   "execution_count": null,
   "metadata": {
    "colab": {},
    "colab_type": "code",
    "id": "EgUxeanbrown"
   },
   "outputs": [],
   "source": []
  },
  {
   "cell_type": "markdown",
   "metadata": {
    "colab_type": "text",
    "id": "jLadAFHGrowu"
   },
   "source": [
    "e) Calcular la parte entera y el resto de 181/11"
   ]
  },
  {
   "cell_type": "code",
   "execution_count": null,
   "metadata": {
    "colab": {},
    "colab_type": "code",
    "id": "tU5rQrAKrowv"
   },
   "outputs": [],
   "source": []
  },
  {
   "cell_type": "markdown",
   "metadata": {
    "colab_type": "text",
    "id": "JsDVqCe5row3"
   },
   "source": [
    "\n",
    "## Cadenas de caracteres\n"
   ]
  },
  {
   "cell_type": "markdown",
   "metadata": {
    "colab_type": "text",
    "id": "BSqxDkYrrow4"
   },
   "source": [
    "a) ¿Qué imprimirá el siguiente fragmento de código?"
   ]
  },
  {
   "cell_type": "code",
   "execution_count": 10,
   "metadata": {
    "colab": {},
    "colab_type": "code",
    "id": "jVhoV2mYrow6"
   },
   "outputs": [
    {
     "name": "stdout",
     "output_type": "stream",
     "text": [
      "Hola Mundo Hola Mundo Hola Mundo \n"
     ]
    }
   ],
   "source": [
    "a=3\n",
    "saludo = 'Hola Mundo '\n",
    "print(saludo*a)"
   ]
  },
  {
   "cell_type": "markdown",
   "metadata": {
    "colab_type": "text",
    "id": "PQomatsqrow_"
   },
   "source": [
    "- Insertar un fin de línea en saludo para que lo imprima en tres líneas"
   ]
  },
  {
   "cell_type": "code",
   "execution_count": 7,
   "metadata": {
    "colab": {},
    "colab_type": "code",
    "id": "4AqzRfu1roxA"
   },
   "outputs": [
    {
     "name": "stdout",
     "output_type": "stream",
     "text": [
      "Hola Mundo \n",
      "Hola Mundo \n",
      "Hola Mundo \n",
      "\n"
     ]
    }
   ],
   "source": [
    "a=3\n",
    "saludo = 'Hola Mundo \\n' \n",
    "print(saludo*a)"
   ]
  },
  {
   "cell_type": "markdown",
   "metadata": {
    "colab_type": "text",
    "id": "kJJe2nC7roxE"
   },
   "source": [
    "b) Dado el siguiente fragmento de código realizar lo siguiente:"
   ]
  },
  {
   "cell_type": "code",
   "execution_count": null,
   "metadata": {
    "colab": {},
    "colab_type": "code",
    "id": "lvQpfcQFroxF"
   },
   "outputs": [],
   "source": [
    "texto=\"En estructura de datos usamos java como lenguaje de programación\""
   ]
  },
  {
   "cell_type": "markdown",
   "metadata": {
    "colab_type": "text",
    "id": "UknqQbF6roxJ"
   },
   "source": [
    "- Reemplazar _java_ por _python_ en texto"
   ]
  },
  {
   "cell_type": "code",
   "execution_count": 9,
   "metadata": {
    "colab": {},
    "colab_type": "code",
    "id": "1R8jMLBhroxK"
   },
   "outputs": [
    {
     "data": {
      "text/plain": [
       "'En estructura de datos usamos python como lenguaje de programación'"
      ]
     },
     "execution_count": 9,
     "metadata": {},
     "output_type": "execute_result"
    }
   ],
   "source": [
    "texto=\"En estructura de datos usamos java como lenguaje de programación\"\n",
    "texto.replace(\"java\", \"python\")"
   ]
  },
  {
   "cell_type": "markdown",
   "metadata": {
    "colab_type": "text",
    "id": "nqwhN-T0roxP"
   },
   "source": [
    "- Devolver la subcadena con los últimos 3 caracteres de texto"
   ]
  },
  {
   "cell_type": "code",
   "execution_count": null,
   "metadata": {
    "colab": {},
    "colab_type": "code",
    "id": "G2AtN-xlroxR"
   },
   "outputs": [],
   "source": []
  },
  {
   "cell_type": "markdown",
   "metadata": {
    "colab_type": "text",
    "id": "rBhLpIcProxV"
   },
   "source": [
    "- Ejecutar el siguiente fragmento de código y justificar el resultado:"
   ]
  },
  {
   "cell_type": "code",
   "execution_count": 11,
   "metadata": {
    "colab": {},
    "colab_type": "code",
    "id": "w1l1TO5mroxW"
   },
   "outputs": [
    {
     "ename": "TypeError",
     "evalue": "'str' object does not support item assignment",
     "output_type": "error",
     "traceback": [
      "\u001b[0;31m---------------------------------------------------------------------------\u001b[0m",
      "\u001b[0;31mTypeError\u001b[0m                                 Traceback (most recent call last)",
      "\u001b[0;32m<ipython-input-11-1ef0f18750d3>\u001b[0m in \u001b[0;36m<module>\u001b[0;34m\u001b[0m\n\u001b[0;32m----> 1\u001b[0;31m \u001b[0mtexto\u001b[0m\u001b[0;34m[\u001b[0m\u001b[0;34m-\u001b[0m\u001b[0;36m2\u001b[0m\u001b[0;34m]\u001b[0m\u001b[0;34m=\u001b[0m\u001b[0;34m'-'\u001b[0m\u001b[0;34m\u001b[0m\u001b[0;34m\u001b[0m\u001b[0m\n\u001b[0m",
      "\u001b[0;31mTypeError\u001b[0m: 'str' object does not support item assignment"
     ]
    }
   ],
   "source": [
    "texto[-2]='-'"
   ]
  },
  {
   "cell_type": "markdown",
   "metadata": {
    "colab_type": "text",
    "id": "S8Hjvpixroxa"
   },
   "source": [
    "- Calcular en que posición comienza la palabra _python_"
   ]
  },
  {
   "cell_type": "code",
   "execution_count": null,
   "metadata": {
    "colab": {},
    "colab_type": "code",
    "id": "vN9f0_ISroxb"
   },
   "outputs": [],
   "source": []
  },
  {
   "cell_type": "markdown",
   "metadata": {
    "colab_type": "text",
    "id": "V2OflZeAroxg"
   },
   "source": [
    "- Capitalizar el texto (poner la primera letra de cada palabra en mayúsculas)"
   ]
  },
  {
   "cell_type": "code",
   "execution_count": null,
   "metadata": {
    "colab": {},
    "colab_type": "code",
    "id": "tdFmerI5roxh"
   },
   "outputs": [],
   "source": []
  },
  {
   "cell_type": "markdown",
   "metadata": {
    "colab_type": "text",
    "id": "_CU15eh7roxk"
   },
   "source": [
    "- Calcular de que tipo es la variable _texto_"
   ]
  },
  {
   "cell_type": "code",
   "execution_count": null,
   "metadata": {
    "colab": {},
    "colab_type": "code",
    "id": "db_pTpu5roxl"
   },
   "outputs": [],
   "source": []
  },
  {
   "cell_type": "markdown",
   "metadata": {
    "colab_type": "text",
    "id": "86Yt0ivCroxp"
   },
   "source": [
    "- Investigar la ayuda para la función **_join_** que soporta texto"
   ]
  },
  {
   "cell_type": "code",
   "execution_count": null,
   "metadata": {
    "colab": {},
    "colab_type": "code",
    "id": "nSwY8yzNroxq"
   },
   "outputs": [],
   "source": []
  },
  {
   "cell_type": "markdown",
   "metadata": {
    "colab_type": "text",
    "id": "7meC3ZLVroxw"
   },
   "source": [
    "## Funciones"
   ]
  },
  {
   "cell_type": "markdown",
   "metadata": {
    "colab_type": "text",
    "id": "PyQuEyH7roxx"
   },
   "source": [
    "a) Programar una función que reciba un valor en grados Fharenheit y devuelva el equivalente en grados Celsius.\n",
    "\n",
    "Luego escribir un fragmento de código que utilice la función anterior e imprima una tabla de conversión desde 0ºF hasta 120ºF con incrementos de 10.\n",
    "\n",
    "La fórmula de conversión es la siguiente:\n",
    "\n",
    "\\begin{equation*}\n",
    "F=\\frac{3}{5} \\times C+32\n",
    "\\end{equation*}\n"
   ]
  },
  {
   "cell_type": "code",
   "execution_count": null,
   "metadata": {
    "colab": {},
    "colab_type": "code",
    "id": "gOu55190roxy"
   },
   "outputs": [],
   "source": []
  },
  {
   "cell_type": "markdown",
   "metadata": {
    "colab_type": "text",
    "id": "Mpqxc4XOrox3"
   },
   "source": [
    "b) Dadas las siguientes funciones:"
   ]
  },
  {
   "cell_type": "code",
   "execution_count": null,
   "metadata": {
    "colab": {},
    "colab_type": "code",
    "id": "EaIiNjS4rox4"
   },
   "outputs": [],
   "source": [
    "def cuad(x):\n",
    "    return x*x\n",
    "\n",
    "def cubo(x):\n",
    "    return x*x*x"
   ]
  },
  {
   "cell_type": "markdown",
   "metadata": {
    "colab_type": "text",
    "id": "TurKQ790rox8"
   },
   "source": [
    "- Escribir una función que use _cuad_ y _cubo_ y calcule x<sup>6"
   ]
  },
  {
   "cell_type": "code",
   "execution_count": null,
   "metadata": {
    "colab": {},
    "colab_type": "code",
    "id": "4YTw2vPerox8"
   },
   "outputs": [],
   "source": []
  },
  {
   "cell_type": "markdown",
   "metadata": {
    "colab_type": "text",
    "id": "rDwukLfVroyC"
   },
   "source": [
    "c) Escribir una función que reciba una palabra o frase y que devuelva _True_ si es un palíndromo\n",
    ">ver https://es.wikipedia.org/wiki/Pal%C3%ADndromo>"
   ]
  },
  {
   "cell_type": "code",
   "execution_count": null,
   "metadata": {
    "colab": {},
    "colab_type": "code",
    "id": "7L7JxpoyroyC"
   },
   "outputs": [],
   "source": [
    "       "
   ]
  },
  {
   "cell_type": "markdown",
   "metadata": {
    "colab_type": "text",
    "id": "vBmJ_nHdroyG"
   },
   "source": [
    "Probar la función con las siguientes frases:"
   ]
  },
  {
   "cell_type": "code",
   "execution_count": null,
   "metadata": {
    "colab": {},
    "colab_type": "code",
    "id": "YSxlNwFjroyH"
   },
   "outputs": [],
   "source": [
    "frases=[\"acaso hubo buhos aca\",\n",
    "        \"acaso hubo búhos acá\",\n",
    "        \"a la catalana banal atacala\",\n",
    "        \"A la catalana banal atacala\",\n",
    "        \"arriba birra\",\n",
    "        \"birra arriba\",\n",
    "        \"a ti no bonita\",\n",
    "        \"neuquen\",\n",
    "        \"alli ves a sevilla\",\n",
    "        \"aman a panama\",\n",
    "        \"la ruta natural\"]\n",
    "\n",
    "for frase in frases:\n",
    "    print(\"{: >30}   {:}\".format(frase, palindromo(''.join(frase.split()))))"
   ]
  },
  {
   "cell_type": "markdown",
   "metadata": {
    "colab_type": "text",
    "id": "CdzkEkI5royL"
   },
   "source": [
    "## Listas, diccionarios y tuplas"
   ]
  },
  {
   "cell_type": "markdown",
   "metadata": {
    "colab_type": "text",
    "id": "eZFblNZyroyL"
   },
   "source": [
    "a) Dada una lista de números enteros escribir una función que:\n",
    "1. Devuelva una lista con todos los números que sean primos. Usar dicha función para calcular los números primos entre 1 y 100"
   ]
  },
  {
   "cell_type": "code",
   "execution_count": null,
   "metadata": {
    "colab": {},
    "colab_type": "code",
    "id": "9aFx6KM8royM"
   },
   "outputs": [],
   "source": []
  },
  {
   "cell_type": "markdown",
   "metadata": {
    "colab_type": "text",
    "id": "SGuQPpJ-royR"
   },
   "source": [
    "2. Devuelva la suma y el promedio de todos los números de la lista"
   ]
  },
  {
   "cell_type": "code",
   "execution_count": null,
   "metadata": {
    "colab": {},
    "colab_type": "code",
    "id": "MDGqjgpOroyS"
   },
   "outputs": [],
   "source": []
  },
  {
   "cell_type": "markdown",
   "metadata": {
    "colab_type": "text",
    "id": "U70W-7pCroyV"
   },
   "source": [
    "3. Devuelva una lista con el factorial de cada uno de los números de la lista original."
   ]
  },
  {
   "cell_type": "code",
   "execution_count": null,
   "metadata": {
    "colab": {},
    "colab_type": "code",
    "id": "0zw2d9LSroyV"
   },
   "outputs": [],
   "source": []
  },
  {
   "cell_type": "markdown",
   "metadata": {
    "colab_type": "text",
    "id": "AyWlTdo2royZ"
   },
   "source": [
    "4. Reciba la lista y un número k y devuelva tres listas: una con los números menores a k, otra con los números iguales a k y la tercera con los mayores que k (¿Cómo se hace para que devuelva tres listas?)"
   ]
  },
  {
   "cell_type": "code",
   "execution_count": null,
   "metadata": {
    "colab": {},
    "colab_type": "code",
    "id": "1LYg3KJAroyZ"
   },
   "outputs": [],
   "source": []
  },
  {
   "cell_type": "markdown",
   "metadata": {
    "colab_type": "text",
    "id": "H70wbf0droyd"
   },
   "source": [
    "5. Escribir una función que implemente el algoritmo de ordenamiento quicksort (Se puede programar en una línea) y probarla con una lista de enteros y con una lista de cadenas de caracteres"
   ]
  },
  {
   "cell_type": "code",
   "execution_count": null,
   "metadata": {
    "colab": {},
    "colab_type": "code",
    "id": "tEkjgYUIroye"
   },
   "outputs": [],
   "source": []
  },
  {
   "cell_type": "markdown",
   "metadata": {
    "colab_type": "text",
    "id": "iLnWPBadroyi"
   },
   "source": [
    "c) Dada una cadena de caracteres escribir una función que:\n",
    "\n",
    "1. Devuelva una diccionario con la frecuencia de aparición de cada caracter"
   ]
  },
  {
   "cell_type": "code",
   "execution_count": null,
   "metadata": {
    "colab": {},
    "colab_type": "code",
    "id": "fYC0DJWyroyj"
   },
   "outputs": [],
   "source": []
  },
  {
   "cell_type": "markdown",
   "metadata": {
    "colab_type": "text",
    "id": "Q-lvOuvBroyn"
   },
   "source": [
    "2. Devuelva un diccionario cuyas claves sean las vocales y los valores listas de palabras que empiecen con la vocal indicada"
   ]
  },
  {
   "cell_type": "code",
   "execution_count": null,
   "metadata": {
    "colab": {},
    "colab_type": "code",
    "id": "PtVCnHiHroyo"
   },
   "outputs": [],
   "source": []
  }
 ],
 "metadata": {
  "colab": {
   "name": "Guia_1.ipynb",
   "private_outputs": true,
   "provenance": []
  },
  "kernelspec": {
   "display_name": "Python 3",
   "language": "python",
   "name": "python3"
  },
  "language_info": {
   "codemirror_mode": {
    "name": "ipython",
    "version": 3
   },
   "file_extension": ".py",
   "mimetype": "text/x-python",
   "name": "python",
   "nbconvert_exporter": "python",
   "pygments_lexer": "ipython3",
   "version": "3.8.2"
  }
 },
 "nbformat": 4,
 "nbformat_minor": 1
}
